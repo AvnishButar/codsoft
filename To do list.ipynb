{
 "cells": [
  {
   "cell_type": "code",
   "execution_count": 2,
   "id": "89432650-7724-48b6-a6e7-399913af24ee",
   "metadata": {},
   "outputs": [],
   "source": [
    "import tkinter as tk\n",
    "from tkinter import messagebox\n",
    "\n",
    "def add_task():\n",
    "    task = task_entry.get()\n",
    "    if task:\n",
    "        task_list.insert(tk.END, task)\n",
    "        task_entry.delete(0, tk.END)\n",
    "    else:\n",
    "        messagebox.showwarning(\"Warning\", \"Please enter a task.\")\n",
    "\n",
    "def remove_task():\n",
    "    selected_task = task_list.curselection()\n",
    "    if selected_task:\n",
    "        task_list.delete(selected_task)\n",
    "\n",
    "app = tk.Tk()\n",
    "app.title(\"To-Do List\")\n",
    "\n",
    "task_entry = tk.Entry(app)\n",
    "task_entry.pack(pady=10)\n",
    "\n",
    "add_button = tk.Button(app, text=\"Add Task\", command=add_task)\n",
    "add_button.pack()\n",
    "\n",
    "remove_button = tk.Button(app, text=\"Remove Task\", command=remove_task)\n",
    "remove_button.pack()\n",
    "\n",
    "task_list = tk.Listbox(app)\n",
    "task_list.pack()\n",
    "\n",
    "app.mainloop()"
   ]
  },
  {
   "cell_type": "code",
   "execution_count": null,
   "id": "6c0829f4-281f-4b74-ba5f-c626db0a75cf",
   "metadata": {},
   "outputs": [],
   "source": []
  }
 ],
 "metadata": {
  "kernelspec": {
   "display_name": "Python 3 (ipykernel)",
   "language": "python",
   "name": "python3"
  },
  "language_info": {
   "codemirror_mode": {
    "name": "ipython",
    "version": 3
   },
   "file_extension": ".py",
   "mimetype": "text/x-python",
   "name": "python",
   "nbconvert_exporter": "python",
   "pygments_lexer": "ipython3",
   "version": "3.11.4"
  }
 },
 "nbformat": 4,
 "nbformat_minor": 5
}
